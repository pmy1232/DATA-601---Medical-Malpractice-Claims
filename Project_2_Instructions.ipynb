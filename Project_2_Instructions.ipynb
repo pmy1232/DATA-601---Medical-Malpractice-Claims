{
 "cells": [
  {
   "cell_type": "markdown",
   "id": "f52204e4",
   "metadata": {},
   "source": [
    "# Instructions\n",
    "\n",
    "As part of Project 2, you will need to select a dataset of your interest (e.g., from Kaggle or other websites). These dataset should be discussed with your instructor to make sure the dataset will be feasible prior to start of the project. The main goal is to use this dataset to do a data cleaning, and exploratory data analysis. Please divide your notebook into logical steps as we have done in class (e.g., data loading, data statistics, etc.). You have the freedom to decide what is best for your data and your analysis. Developing a Table of contents for each notebook typically helps in exploring the notebook later on. You are free to decide if you are using one notebook or multiple notebooks. You can do one notebook for data cleaning and another notebook for exploratory data analysis (EDA).\n",
    "\n",
    "The questions and tasks are somewhat open to allow flexibility to for each project. The tasks provide a minimum set of task to perform or functions to run.\n",
    "\n",
    "## Data Loading Exploration (15 points)\n",
    "\n",
    "As part of the data cleaning you will need to explore the data. As a minimum you will need to calculate the number of rows, number of columns, and information of the dataframe. At minimum you need to use the .info(), .hist() and sns.pairplot() functions. At any point after making changes during the data cleaning you may use the .info() or any other functions.\n",
    "\n",
    "Document any observations regarding any potential data cleaning. Also discuss datatypes given the col description and if it each column datatype makes sense and make changes as appropriate. Identify any potential outliers, and any correlation between features. Identify plots that may be worth exploring during the EDA. \n",
    "\n",
    "## Data Statistics (15 points)\n",
    "\n",
    "Explore the data statistics to further identify potential outliers and if the statistics make sense. At minimum you need to use the .describe(), and value_counts() functions. You could also use the groupby functions. Please export the .describe() dataframe and put a copy on the output_data folder. \n",
    "\n",
    "## Data cleaning (20 points)\n",
    "\n",
    "Develop understanding of the data by exploring data issues. At minimum perform the following tasks:\n",
    "- Are there any full row duplicates and should we remove/drop?\n",
    "- Evaluate duplicates in other columns that may need to be modified? \n",
    "- Evaluate null values? Does it makes sense to have null values? Do we need to fix these null values using the column mean, column min, column max, group mean, etc. or should we drop the null values?\n",
    "- Evaluate for potential of outliers?\n",
    "\n",
    "Document any observations, and conclusions. Save the cleaned dataset in the output_data folder.\n",
    "\n",
    "## Exploratory Data Analysis (EDA)\n",
    "\n",
    "The purpose of EDA is to explore the characteristics of the data, explore relationships, and analyze the data. Many of the functions used to explore issues of data cleaning can be used for EDA too. If dividing the project 2 in two notebooks (e.g., one for Data Cleaning and two for EDA), start the second notebook with loading of the cleaned data. Use any functions above as needed to ensure the data and features were loaded correctly.  \n",
    "\n",
    "## Feature Correlation (10 points)\n",
    "\n",
    "Explore the correlation of the features. At minimum use the .corr() function. Documnet which are the top three features with the highest positive correlation and the top trhee with the highest negative correlation. Discuss any observations on the top feature correlations and if they make sense.\n",
    "\n",
    "## Questions (15 points)\n",
    "\n",
    "At minimum, develop three questions that you think will be worthwhile to explore in your data. For example:\n",
    "- Which is the category that has the highest value?\n",
    "- Which group has the highest mean?\n",
    "These questions can be answer using various functions or the plots in the next section.\n",
    "\n",
    "## Plotting (15 points)\n",
    "\n",
    "Plotting is helpful to visualize relationship between the data. You will have the freedom to use whichever plot you think is best for your data. At minimum develop three plots as follow.\n",
    "- Develop one plot for two features with positive (or highest) correlation.\n",
    "- Develop one plot for two features with negative (or lowest) correlation.\n",
    "- Develop one plot with one feature being categorical and the other feature being numerical.\n",
    "Comment and document any observations on your plots. \n",
    "\n",
    "## Presentation Slides (10 points)\n",
    "Develop presentation slides where you discuss at a minimum:\n",
    "- Background on your data including the source.\n",
    "- Major data cleaning challenges.\n",
    "- Major observations\n",
    "- Thoughts on recommendations and path forward.\n",
    "\n",
    "\n",
    "## BONUS/EXTRA (5 points)\n",
    "\n",
    "In a separate notebook, use the cleaned data and develop a dashboard that allows filtering and at minimum show one plot with two filters to change.\n",
    "\n",
    "## Deliverable\n",
    "Send the Final Notebooks and input data via email to the instructor (No need to send the output data). Alternatively, if you have a Github account, you can upload and send the link via email."
   ]
  },
  {
   "cell_type": "markdown",
   "id": "5c7865c0",
   "metadata": {},
   "source": [
    "# NOTEBOOK END"
   ]
  },
  {
   "cell_type": "code",
   "execution_count": null,
   "id": "a587eb5b",
   "metadata": {},
   "outputs": [],
   "source": []
  },
  {
   "cell_type": "code",
   "execution_count": null,
   "id": "9f618226",
   "metadata": {},
   "outputs": [],
   "source": []
  },
  {
   "cell_type": "code",
   "execution_count": null,
   "id": "864e0153",
   "metadata": {},
   "outputs": [],
   "source": []
  }
 ],
 "metadata": {
  "kernelspec": {
   "display_name": "Python 3 (ipykernel)",
   "language": "python",
   "name": "python3"
  },
  "language_info": {
   "codemirror_mode": {
    "name": "ipython",
    "version": 3
   },
   "file_extension": ".py",
   "mimetype": "text/x-python",
   "name": "python",
   "nbconvert_exporter": "python",
   "pygments_lexer": "ipython3",
   "version": "3.12.4"
  }
 },
 "nbformat": 4,
 "nbformat_minor": 5
}
